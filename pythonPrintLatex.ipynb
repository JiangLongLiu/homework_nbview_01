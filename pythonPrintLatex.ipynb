{
 "cells": [
  {
   "cell_type": "code",
   "execution_count": 13,
   "metadata": {},
   "outputs": [
    {
     "data": {
      "text/markdown": [
       "\n",
       "Dims: $13.49m \\times  2.3m$\n",
       "\n",
       "Area: $302.99m^2$\n",
       "\n",
       "Volume: $90.02m^3$\n",
       "\n",
       "aa是: $15.7444223m^3$\n"
      ],
      "text/plain": [
       "<IPython.core.display.Markdown object>"
      ]
     },
     "metadata": {},
     "output_type": "display_data"
    }
   ],
   "source": [
    "from IPython.display import display, Markdown\n",
    "\n",
    "a = 13.49\n",
    "b = 2.2544223\n",
    "P = 302.99\n",
    "V = 90.02\n",
    "aa = a+b\n",
    "\n",
    "display(Markdown(\n",
    "   rf\"\"\"\n",
    "Dims: ${a}m \\times{b:5.2}m$\n",
    "\n",
    "Area: ${P}m^2$\n",
    "\n",
    "Volume: ${V}m^3$\n",
    "\n",
    "aa是: ${aa}m^3$\n",
    "\"\"\"))"
   ]
  },
  {
   "cell_type": "code",
   "execution_count": 29,
   "metadata": {},
   "outputs": [
    {
     "data": {
      "text/latex": [
       "$\\displaystyle F(k) = \\int_{-\\infty}^{\\infty} f(x) e^{2\\pi i k} dx=$15.7444223$"
      ],
      "text/plain": [
       "<IPython.core.display.Math object>"
      ]
     },
     "metadata": {},
     "output_type": "display_data"
    },
    {
     "data": {
      "text/latex": [
       "$\\displaystyle F(k)=\\int_{-\\infty}^{\\infty} f(x) e^{2 \\pi i k} d x$"
      ],
      "text/plain": [
       "<IPython.core.display.Math object>"
      ]
     },
     "metadata": {},
     "output_type": "display_data"
    }
   ],
   "source": [
    "from IPython.display import display, Math, Latex\n",
    "\n",
    "a = 13.49\n",
    "b = 2.2544223\n",
    "P = 302.99\n",
    "V = 90.02\n",
    "aa = a+b\n",
    "\n",
    "display(Math(r'F(k) = \\int_{-\\infty}^{\\infty} f(x) e^{2\\pi i k} dx='+rf\"\"\"${aa}$\"\"\"))\n",
    "\n",
    "display(Math(r'F(k)=\\int_{-\\infty}^{\\infty} f(x) e^{2 \\pi i k} d x'))"
   ]
  },
  {
   "cell_type": "markdown",
   "metadata": {},
   "source": [
    "$ \\sigma_{\\mathrm{p}}=\\frac{4000 T}{h(L-b) d}=\\frac{4000 \\times 75.45}{7 \\times(40-8) \\times 25} \\mathrm{MPa}=53.9 \\mathrm{MPa}<\\left[\\sigma_{\\mathrm{p}}\\right] $"
   ]
  },
  {
   "cell_type": "code",
   "execution_count": null,
   "metadata": {},
   "outputs": [],
   "source": []
  }
 ],
 "metadata": {
  "kernelspec": {
   "display_name": "Python 3",
   "language": "python",
   "name": "python3"
  },
  "language_info": {
   "codemirror_mode": {
    "name": "ipython",
    "version": 3
   },
   "file_extension": ".py",
   "mimetype": "text/x-python",
   "name": "python",
   "nbconvert_exporter": "python",
   "pygments_lexer": "ipython3",
   "version": "3.6.6"
  }
 },
 "nbformat": 4,
 "nbformat_minor": 4
}
