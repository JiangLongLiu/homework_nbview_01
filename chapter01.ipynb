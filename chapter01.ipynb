{
 "cells": [
  {
   "cell_type": "markdown",
   "metadata": {},
   "source": [
    "# 第一讲：方程组222的几何解释\n",
    "\n",
    "我们从求解线性方程组来开始这门课，从一个普通的例子讲起：方程组有$2$个未知数，一共有$2$个方程，分别来看方程组的“行图像”和“列图像”。\n",
    "\n",
    "有方程组$\\begin{cases}2x&-y&=0\\\\-x&+2y&=3\\end{cases}$，写作矩阵形式有$\\begin{bmatrix}2&-1\\\\-1&2\\end{bmatrix}\\begin{bmatrix}x\\\\y\\end{bmatrix}=\\begin{bmatrix}0\\\\3\\end{bmatrix}$，通常我们把第一个矩阵称为系数矩阵$A$，将第二个矩阵称为向量$x$，将第三个矩阵称为向量$b$，于是线性方程组可以表示为$Ax=b$。\n",
    "\n",
    "我们来看行图像，即直角坐标系中的图像：\n",
    "\n",
    "$ \\sigma_{\\mathrm{p}}=\\frac{4000 T}{h(L-b) d}=\\frac{4000 \\times 75.45}{7 \\times(40-8) \\times 25} \\mathrm{MPa}=53.9 \\mathrm{MPa}<\\left[\\sigma_{\\mathrm{p}}\\right] $"
   ]
  },
  {
   "cell_type": "code",
   "execution_count": 6,
   "metadata": {
    "collapsed": false,
    "jupyter": {
     "outputs_hidden": false
    }
   },
   "outputs": [
    {
     "data": {
      "text/plain": [
       "'\\n这是多行注释\\n'"
      ]
     },
     "execution_count": 6,
     "metadata": {},
     "output_type": "execute_result"
    },
    {
     "data": {
      "image/png": "[encoded data removed]",
      "text/plain": [
       "<Figure size 432x288 with 1 Axes>"
      ]
     },
     "metadata": {
      "needs_background": "light"
     },
     "output_type": "display_data"
    }
   ],
   "source": [
    "%matplotlib inline\n",
    "import matplotlib.pyplot as plt\n",
    "import numpy as np\n",
    "import pandas as pd\n",
    "import seaborn as sns\n",
    "\n",
    "x = [-2, 2, -2, 2]\n",
    "y = [-4, 4, 0.5, 2.5]\n",
    "\n",
    "fig = plt.figure()\n",
    "plt.axhline(y=0, c='black')\n",
    "plt.axvline(x=0, c='black')\n",
    "\n",
    "plt.plot(x[:2], y[:2], x[2:], y[2:])\n",
    "\n",
    "plt.draw()\n",
    "\n"
   ]
  },
  {
   "cell_type": "code",
   "execution_count": 22,
   "metadata": {},
   "outputs": [
    {
     "data": {
      "text/markdown": [
       "\n",
       "Dims: $13.49m \\times  2.3m$\n",
       "\n",
       "Area: $302.99m^2$\n",
       "\n",
       "Volume: $90.02m^3$\n"
      ],
      "text/plain": [
       "<IPython.core.display.Markdown object>"
      ]
     },
     "metadata": {},
     "output_type": "display_data"
    }
   ],
   "source": [
    "plt.close(fig)\n",
    "\n",
    "from IPython.display import display, Markdown\n",
    "\n",
    "a = 13.49\n",
    "b = 2.2544223\n",
    "P = 302.99\n",
    "V = 90.02\n",
    "\n",
    "display(Markdown(\n",
    "   rf\"\"\"\n",
    "Dims: ${a}m \\times{b:5.2}m$\n",
    "\n",
    "Area: ${P}m^2$\n",
    "\n",
    "Volume: ${V}m^3$\n",
    "\"\"\"))\n",
    "\n",
    "\n",
    "# 这是一行注释"
   ]
  },
  {
   "cell_type": "markdown",
   "metadata": {},
   "source": [
    "上图是我们都很熟悉的直角坐标系中两直线相交的情况，接下来我们按列观察方程组$x\\begin{bmatrix}2\\\\-1\\end{bmatrix}+y\\begin{bmatrix}-1\\\\2\\end{bmatrix}=\\begin{bmatrix}0\\\\3\\end{bmatrix}$（我们把第一个向量称作$col_1$，第二个向量称作$col_2$，以表示第一列向量和第二列向量），要使得式子成立，需要第一个向量加上两倍的第二个向量，即$1\\begin{bmatrix}2\\\\-1\\end{bmatrix}+2\\begin{bmatrix}-1\\\\2\\end{bmatrix}=\\begin{bmatrix}0\\\\3\\end{bmatrix}$。\n",
    "\n",
    "现在来看列图像，在二维平面上画出上面的列向量："
   ]
  },
  {
   "cell_type": "code",
   "execution_count": 3,
   "metadata": {
    "collapsed": false,
    "jupyter": {
     "outputs_hidden": false
    }
   },
   "outputs": [
    {
     "data": {
      "image/png": "[encoded data removed]",
      "text/plain": [
       "<matplotlib.figure.Figure at 0x11909a320>"
      ]
     },
     "metadata": {},
     "output_type": "display_data"
    }
   ],
   "source": [
    "from functools import partial\n",
    "\n",
    "fig = plt.figure()\n",
    "plt.axhline(y=0, c='black')\n",
    "plt.axvline(x=0, c='black')\n",
    "ax = plt.gca()\n",
    "ax.set_xlim(-2.5, 2.5)\n",
    "ax.set_ylim(-3, 4)\n",
    "\n",
    "arrow_vector = partial(plt.arrow, width=0.01, head_width=0.1, head_length=0.2, length_includes_head=True)\n",
    "\n",
    "arrow_vector(0, 0, 2, -1, color='g')\n",
    "arrow_vector(0, 0, -1, 2, color='c')\n",
    "arrow_vector(2, -1, -2, 4, color='b')\n",
    "arrow_vector(0, 0, 0, 3, width=0.05, color='r')\n",
    "\n",
    "plt.draw()"
   ]
  },
  {
   "cell_type": "code",
   "execution_count": 4,
   "metadata": {
    "collapsed": true,
    "jupyter": {
     "outputs_hidden": true
    }
   },
   "outputs": [],
   "source": [
    "plt.close(fig)"
   ]
  },
  {
   "cell_type": "markdown",
   "metadata": {},
   "source": [
    "如图，绿向量$col_1$与蓝向量（两倍的蓝绿向量$col_2$）合成红向量$b$。\n",
    "\n",
    "接着，我们继续观察$x\\begin{bmatrix}2\\\\-1\\end{bmatrix}+y\\begin{bmatrix}-1\\\\2\\end{bmatrix}=\\begin{bmatrix}0\\\\3\\end{bmatrix}$，$col_1,col_2$的某种线性组合得到了向量$b$，那么$col_1,col_2$的所有线性组合能够得到什么结果？它们将铺满整个平面。\n",
    "\n",
    "下面进入三个未知数的方程组：$\\begin{cases}2x&-y&&=0\\\\-x&+2y&-z&=-1\\\\&-3y&+4z&=4\\end{cases}$，写作矩阵形式$A=\\begin{bmatrix}2&-1&0\\\\-1&2&-1\\\\0&-3&4\\end{bmatrix},\\ b=\\begin{bmatrix}0\\\\-1\\\\4\\end{bmatrix}$。\n",
    "\n",
    "在三维直角坐标系中，每一个方程将确定一个平面，而例子中的三个平面会相交于一点，这个点就是方程组的解。\n",
    "\n",
    "同样的，将方程组写成列向量的线性组合，观察列图像：$x\\begin{bmatrix}2\\\\-1\\\\0\\end{bmatrix}+y\\begin{bmatrix}-1\\\\2\\\\-3\\end{bmatrix}+z\\begin{bmatrix}0\\\\-1\\\\4\\end{bmatrix}=\\begin{bmatrix}0\\\\-1\\\\4\\end{bmatrix}$。易知教授特意安排的例子中最后一个列向量恰巧等于等式右边的$b$向量，所以我们需要的线性组合为$x=0,y=0,z=1$。假设我们令$b=\\begin{bmatrix}1\\\\1\\\\-3\\end{bmatrix}$，则需要的线性组合为$x=1,y=1,z=0$。\n",
    "\n",
    "我们并不能总是这么轻易的求出正确的线性组合，所以下一讲将介绍消元法——一种线性方程组的系统性解法。\n",
    "\n",
    "现在，我们需要考虑，对于任意的$b$，是否都能求解$Ax=b$？用列向量线性组合的观点阐述就是，列向量的线性组合能否覆盖整个三维向量空间？对上面这个例子，答案是肯定的，这个例子中的$A$是我们喜欢的矩阵类型，但是对另一些矩阵，答案是否定的。那么在什么情况下，三个向量的线性组合得不到$b$？\n",
    "\n",
    "——如果三个向量在同一个平面上，问题就出现了——那么他们的线性组合也一定都在这个平面上。举个例子，比如$col_3=col_1+col_2$，那么不管怎么组合，这三个向量的结果都逃不出这个平面，因此当$b$在平面内，方程组有解，而当$b$不在平面内，这三个列向量就无法构造出$b$。在后面的课程中，我们会了解到这种情形称为**奇异**、**矩阵不可逆**。\n",
    "\n",
    "下面我们推广到九维空间，每个方程有九个未知数，共九个方程，此时已经无法从坐标图像中描述问题了，但是我们依然可以从求九维列向量线性组合的角度解决问题，仍然是上面的问题，是否总能得到$b$？当然这仍取决于这九个向量，如果我们取一些并不相互独立的向量，则答案是否定的，比如取了九列但其实只相当于八列，有一列毫无贡献（这一列是前面列的某种线性组合），则会有一部分$b$无法求得。\n",
    "\n",
    "接下来介绍方程的矩阵形式$Ax=b$，这是一种乘法运算，举个例子，取$A=\\begin{bmatrix}2&5\\\\1&3\\end{bmatrix},\\ x=\\begin{bmatrix}1\\\\2\\end{bmatrix}$，来看如何计算矩阵乘以向量：\n",
    "\n",
    "* 我们依然使用列向量线性组合的方式，一次计算一列，$\\begin{bmatrix}2&5\\\\1&3\\end{bmatrix}\\begin{bmatrix}1\\\\2\\end{bmatrix}=1\\begin{bmatrix}2\\\\1\\end{bmatrix}+2\\begin{bmatrix}5\\\\3\\end{bmatrix}=\\begin{bmatrix}12\\\\7\\end{bmatrix}$\n",
    "* 另一种方法，使用向量内积，矩阵第一行向量点乘$x$向量$\\begin{bmatrix}2&5\\end{bmatrix}\\cdot\\begin{bmatrix}1&2\\end{bmatrix}^T=12,\\ \\begin{bmatrix}1&3\\end{bmatrix}\\cdot\\begin{bmatrix}1&2\\end{bmatrix}^T=7$。\n",
    "\n",
    "教授建议使用第一种方法，将$Ax$看做$A$列向量的线性组合。"
   ]
  },
  {
   "cell_type": "markdown",
   "metadata": {},
   "source": [
    "![image1.jpeg](http://tuchuang-01-1251310322.cos.ap-chengdu.myqcloud.com/%E6%9C%BA%E6%A2%B0%E8%AE%BE%E8%AE%A1%E8%AE%A1%E7%AE%97%E8%AF%B4%E6%98%8E%E4%B9%A6%E5%9B%BE%E7%89%87/image1.jpeg)\n",
    "##MaHua是什么?\n",
    "一个在线编辑markdown文档的编辑器\n",
    "\n",
    "##MaHua有哪些功能？\n",
    "\n",
    "* 方便的`导入导出`功能\n",
    "    *  直接把一个markdown的文本文件拖放到当前这个页面就可以了\n",
    "    *  导出为一个html格式的文件，样式一点也不会丢失\n",
    "* 编辑和预览`同步滚动`，所见即所得（右上角设置）\n",
    "* `VIM快捷键`支持，方便vim党们快速的操作 （右上角设置）\n",
    "* 强大的`自定义CSS`功能，方便定制自己的展示\n",
    "* 有数量也有质量的`主题`,编辑器和预览区域\n",
    "* 完美兼容`Github`的markdown语法\n",
    "* 预览区域`代码高亮`\n",
    "* 所有选项自动记忆\n",
    "\n",
    "##有问题反馈\n",
    "在使用中有任何问题，欢迎反馈给我，可以用以下联系方式跟我交流\n",
    "\n",
    "* 邮件(dev.hubo#gmail.com, 把#换成@)\n",
    "* 微信:jserme\n",
    "* weibo: [@草依山](http://weibo.com/ihubo)\n",
    "* twitter: [@ihubo](http://twitter.com/ihubo)\n",
    "\n",
    "##捐助开发者\n",
    "在兴趣的驱动下,写一个`免费`的东西，有欣喜，也还有汗水，希望你喜欢我的作品，同时也能支持一下。\n",
    "##感激\n",
    "感谢以下的项目,排名不分先后\n",
    "\n",
    "* [ace](http://ace.ajax.org/)\n",
    "* [jquery](http://jquery.com)\n",
    "\n",
    "##关于作者\n",
    "\n",
    "```javascript\n",
    "var ihubo = {\n",
    "  nickName  : \"草依山\",\n",
    "  site : \"http://jser.me\"\n",
    "}\n",
    "```"
   ]
  },
  {
   "cell_type": "code",
   "execution_count": 35,
   "metadata": {},
   "outputs": [
    {
     "ename": "TypeError",
     "evalue": "must be str, not int",
     "output_type": "error",
     "traceback": [
      "\u001b[1;31m---------------------------------------------------------------------------\u001b[0m",
      "\u001b[1;31mTypeError\u001b[0m                                 Traceback (most recent call last)",
      "\u001b[1;32m<ipython-input-35-4972a1732d42>\u001b[0m in \u001b[0;36m<module>\u001b[1;34m\u001b[0m\n\u001b[0;32m      2\u001b[0m \u001b[0maa\u001b[0m\u001b[1;33m=\u001b[0m\u001b[1;36m99\u001b[0m\u001b[1;33m\u001b[0m\u001b[0m\n\u001b[0;32m      3\u001b[0m \u001b[1;33m\u001b[0m\u001b[0m\n\u001b[1;32m----> 4\u001b[1;33m \u001b[0mdisplay\u001b[0m\u001b[1;33m(\u001b[0m\u001b[0mMath\u001b[0m\u001b[1;33m(\u001b[0m\u001b[1;34m\"结果是: \"\u001b[0m\u001b[1;33m+\u001b[0m\u001b[1;34mr'F(k) = \\int_{-\\infty}^{\\infty} f(x) e^{2\\pi i k} dx='\u001b[0m\u001b[1;33m+\u001b[0m\u001b[1;34m\"\"\u001b[0m\u001b[1;33m+\u001b[0m\u001b[0maa\u001b[0m\u001b[1;33m)\u001b[0m\u001b[1;33m)\u001b[0m\u001b[1;33m\u001b[0m\u001b[0m\n\u001b[0m",
      "\u001b[1;31mTypeError\u001b[0m: must be str, not int"
     ]
    }
   ],
   "source": [
    "from IPython.display import display, Math, Latex\n",
    "aa=99\n",
    "\n",
    "display(Math(\"结果是: \"+r'F(k) = \\int_{-\\infty}^{\\infty} f(x) e^{2\\pi i k} dx='+\"\"+aa))\n"
   ]
  },
  {
   "cell_type": "code",
   "execution_count": 40,
   "metadata": {},
   "outputs": [
    {
     "ename": "SyntaxError",
     "evalue": "f-string expression part cannot include a backslash (<ipython-input-40-8a456fc1e328>, line 18)",
     "output_type": "error",
     "traceback": [
      "\u001b[1;36m  File \u001b[1;32m\"<ipython-input-40-8a456fc1e328>\"\u001b[1;36m, line \u001b[1;32m18\u001b[0m\n\u001b[1;33m    \"\"\"))\u001b[0m\n\u001b[1;37m        ^\u001b[0m\n\u001b[1;31mSyntaxError\u001b[0m\u001b[1;31m:\u001b[0m f-string expression part cannot include a backslash\n"
     ]
    }
   ],
   "source": [
    "from IPython.display import display, Markdown\n",
    "\n",
    "a = 13.49\n",
    "b = 2.2544223\n",
    "P = 302.99\n",
    "V = 90.02\n",
    "aa = a+b\n",
    "\n",
    "display(Markdown(\n",
    "   rf\"\"\"\n",
    "Dims: ${a}m \\times{b:5.2}m$\n",
    "\n",
    "Area: ${P}m^2$\n",
    "\n",
    "Volume: ${V}m^3$\n",
    "\n",
    "aa是啊啊: ${aa}m^3$\n",
    "\"\"\"))"
   ]
  },
  {
   "cell_type": "code",
   "execution_count": null,
   "metadata": {},
   "outputs": [],
   "source": []
  }
 ],
 "metadata": {
  "kernelspec": {
   "display_name": "Python 3",
   "language": "python",
   "name": "python3"
  },
  "language_info": {
   "codemirror_mode": {
    "name": "ipython",
    "version": 3
   },
   "file_extension": ".py",
   "mimetype": "text/x-python",
   "name": "python",
   "nbconvert_exporter": "python",
   "pygments_lexer": "ipython3",
   "version": "3.6.6"
  }
 },
 "nbformat": 4,
 "nbformat_minor": 4
}
